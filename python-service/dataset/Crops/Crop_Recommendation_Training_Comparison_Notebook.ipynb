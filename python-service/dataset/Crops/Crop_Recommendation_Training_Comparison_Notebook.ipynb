{
 "cells": [
  {
   "cell_type": "markdown",
   "id": "0d916160",
   "metadata": {},
   "source": [
    "## Crop Recommendation Model Training with Comparison"
   ]
  },
  {
   "cell_type": "code",
   "execution_count": null,
   "id": "d5ea2620",
   "metadata": {},
   "outputs": [
    {
     "ename": "",
     "evalue": "",
     "output_type": "error",
     "traceback": [
      "\u001b[1;31mRunning cells with 'Python 3.8.0' requires the ipykernel package.\n",
      "\u001b[1;31mRun the following command to install 'ipykernel' into the Python environment. \n",
      "\u001b[1;31mCommand: 'c:/Users/harsh/AppData/Local/Programs/Python/Python38/python.exe -m pip install ipykernel -U --user --force-reinstall'"
     ]
    }
   ],
   "source": [
    "import numpy as np\n",
    "import pandas as pd\n",
    "from sklearn.preprocessing import StandardScaler\n",
    "from sklearn.model_selection import train_test_split\n",
    "from sklearn.naive_bayes import GaussianNB\n",
    "from sklearn.neighbors import KNeighborsClassifier\n",
    "from sklearn.metrics import accuracy_score\n",
    "from joblib import dump"
   ]
  },
  {
   "cell_type": "markdown",
   "id": "7cbac4e6",
   "metadata": {},
   "source": [
    "This notebook demonstrates the process of training two different machine learning models (KNN and Gaussian Naive Bayes) for recommending crops based on environmental features such as NPK values, temperature, humidity, pH, and rainfall. We will compare their performances to decide which model to use."
   ]
  },
  {
   "cell_type": "code",
   "execution_count": null,
   "id": "d2469b99",
   "metadata": {},
   "outputs": [],
   "source": [
    "data = pd.read_csv('Crop_recommendation.csv')\n",
    "print(data.head())\n",
    "print('Shape of Dataset:', data.shape)"
   ]
  },
  {
   "cell_type": "markdown",
   "id": "f9fe87ee",
   "metadata": {},
   "source": [
    "### Import Necessary Libraries"
   ]
  },
  {
   "cell_type": "code",
   "execution_count": null,
   "id": "dbd4f153",
   "metadata": {},
   "outputs": [],
   "source": [
    "labels = data['label']\n",
    "features = data.drop('label', axis=1)\n",
    "print('Labels:')\n",
    "print(labels.head())\n",
    "print('Features:')\n",
    "print(features.head())"
   ]
  },
  {
   "cell_type": "markdown",
   "id": "8b14b3cd",
   "metadata": {},
   "source": [
    "Import libraries required for handling data, machine learning operations, and model evaluation."
   ]
  },
  {
   "cell_type": "code",
   "execution_count": null,
   "id": "c4d1846c",
   "metadata": {},
   "outputs": [],
   "source": [
    "scaler = StandardScaler()\n",
    "scaled_features = scaler.fit_transform(features)\n",
    "features = pd.DataFrame(scaled_features, columns=features.columns)\n",
    "print(features.head())"
   ]
  },
  {
   "cell_type": "markdown",
   "id": "715a955d",
   "metadata": {},
   "source": [
    "### Load and Inspect the Dataset"
   ]
  },
  {
   "cell_type": "code",
   "execution_count": null,
   "id": "46c2b983",
   "metadata": {},
   "outputs": [],
   "source": [
    "X_train, X_test, y_train, y_test = train_test_split(features, labels, test_size=0.2, random_state=42)\n",
    "print('Training set size:', X_train.shape)\n",
    "print('Testing set size:', X_test.shape)"
   ]
  },
  {
   "cell_type": "markdown",
   "id": "4fd31621",
   "metadata": {},
   "source": [
    "Load the crop recommendation data from the provided CSV file and inspect the first few entries to understand its structure."
   ]
  },
  {
   "cell_type": "code",
   "execution_count": null,
   "id": "157c714f",
   "metadata": {},
   "outputs": [],
   "source": [
    "gnb_model = GaussianNB()\n",
    "gnb_model.fit(X_train, y_train)\n",
    "y_pred_gnb = gnb_model.predict(X_test)\n",
    "accuracy_gnb = accuracy_score(y_test, y_pred_gnb)\n",
    "print('Gaussian Naive Bayes Accuracy:', accuracy_gnb)"
   ]
  },
  {
   "cell_type": "markdown",
   "id": "3aae21d9",
   "metadata": {},
   "source": [
    "### Data Preprocessing"
   ]
  },
  {
   "cell_type": "code",
   "execution_count": null,
   "id": "1e81a2c6",
   "metadata": {},
   "outputs": [],
   "source": [
    "knn_model = KNeighborsClassifier(n_neighbors=3)\n",
    "knn_model.fit(X_train, y_train)\n",
    "y_pred_knn = knn_model.predict(X_test)\n",
    "accuracy_knn = accuracy_score(y_test, y_pred_knn)\n",
    "print('KNN Accuracy:', accuracy_knn)"
   ]
  },
  {
   "cell_type": "markdown",
   "id": "b7c11086",
   "metadata": {},
   "source": [
    "Separate the features and the labels, and apply scaling to normalize the features, crucial for effective model training."
   ]
  },
  {
   "cell_type": "code",
   "execution_count": null,
   "id": "a1f0e271",
   "metadata": {},
   "outputs": [],
   "source": [
    "better_model = gnb_model if accuracy_gnb > accuracy_knn else knn_model\n",
    "model_type = 'Gaussian Naive Bayes' if accuracy_gnb > accuracy_knn else 'K-Nearest Neighbors'\n",
    "print(f'The better model based on accuracy is {model_type}.')"
   ]
  },
  {
   "cell_type": "markdown",
   "id": "08713346",
   "metadata": {},
   "source": [
    "### Model Training: Gaussian Naive Bayes"
   ]
  },
  {
   "cell_type": "code",
   "execution_count": null,
   "id": "8c2fe12b",
   "metadata": {},
   "outputs": [],
   "source": [
    "dump(better_model, 'crop_model.pkl')\n",
    "dump(scaler, 'crop_scaler.pkl')\n",
    "print('Model and scaler saved to disk.')"
   ]
  }
 ],
 "metadata": {
  "kernelspec": {
   "display_name": "Python 3",
   "language": "python",
   "name": "python3"
  },
  "language_info": {
   "codemirror_mode": {
    "name": "ipython",
    "version": 3
   },
   "file_extension": ".py",
   "mimetype": "text/x-python",
   "name": "python",
   "nbconvert_exporter": "python",
   "pygments_lexer": "ipython3",
   "version": "3.8.0"
  }
 },
 "nbformat": 4,
 "nbformat_minor": 5
}
