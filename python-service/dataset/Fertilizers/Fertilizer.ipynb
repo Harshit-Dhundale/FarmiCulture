{
 "cells": [
  {
   "cell_type": "markdown",
   "id": "c81b573a",
   "metadata": {},
   "source": [
    "## Fertilizer Recommendation Model Training with Comparison"
   ]
  },
  {
   "cell_type": "code",
   "execution_count": 1,
   "id": "d705a6da",
   "metadata": {},
   "outputs": [],
   "source": [
    "import numpy as np\n",
    "import pandas as pd\n",
    "from sklearn.preprocessing import StandardScaler\n",
    "from sklearn.model_selection import train_test_split\n",
    "from sklearn.ensemble import RandomForestClassifier\n",
    "from sklearn.neighbors import KNeighborsClassifier\n",
    "from sklearn.metrics import accuracy_score\n",
    "from joblib import dump\n"
   ]
  },
  {
   "cell_type": "markdown",
   "id": "6c6a7a3e",
   "metadata": {},
   "source": [
    "### Load and Inspect the Dataset"
   ]
  },
  {
   "cell_type": "code",
   "execution_count": 2,
   "id": "baea10a8",
   "metadata": {},
   "outputs": [
    {
     "name": "stdout",
     "output_type": "stream",
     "text": [
      "The history saving thread hit an unexpected error (OperationalError('database or disk is full')).History will not be written to the database.\n",
      "   Temparature  Humidity   Moisture Soil Type  Crop Type  Nitrogen  Potassium  \\\n",
      "0           26         52        38     Sandy      Maize        37          0   \n",
      "1           29         52        45     Loamy  Sugarcane        12          0   \n",
      "2           34         65        62     Black     Cotton         7          9   \n",
      "3           32         62        34       Red    Tobacco        22          0   \n",
      "4           28         54        46    Clayey      Paddy        35          0   \n",
      "\n",
      "   Phosphorous Fertilizer Name  \n",
      "0            0            Urea  \n",
      "1           36             DAP  \n",
      "2           30        14-35-14  \n",
      "3           20           28-28  \n",
      "4            0            Urea  \n",
      "Shape of Dataset: (99, 9)\n"
     ]
    }
   ],
   "source": [
    "data = pd.read_csv('Fertilizer Prediction.csv')\n",
    "print(data.head())\n",
    "print('Shape of Dataset:', data.shape)"
   ]
  },
  {
   "cell_type": "markdown",
   "id": "7ebee60a",
   "metadata": {},
   "source": [
    "### Data Preprocessing\n",
    "\n",
    "Separate features and labels, and encode categorical features (i.e., *Soil Type* and *Crop Type*) using one-hot encoding."
   ]
  },
  {
   "cell_type": "code",
   "execution_count": 3,
   "id": "c1e21c9a",
   "metadata": {},
   "outputs": [
    {
     "name": "stdout",
     "output_type": "stream",
     "text": [
      "Labels:\n",
      "0        Urea\n",
      "1         DAP\n",
      "2    14-35-14\n",
      "3       28-28\n",
      "4        Urea\n",
      "Name: Fertilizer Name, dtype: object\n",
      "Features after encoding:\n",
      "   Temparature  Humidity   Moisture  Nitrogen  Potassium  Phosphorous  \\\n",
      "0           26         52        38        37          0            0   \n",
      "1           29         52        45        12          0           36   \n",
      "2           34         65        62         7          9           30   \n",
      "3           32         62        34        22          0           20   \n",
      "4           28         54        46        35          0            0   \n",
      "\n",
      "   Soil Type_Black  Soil Type_Clayey  Soil Type_Loamy  Soil Type_Red  ...  \\\n",
      "0            False             False            False          False  ...   \n",
      "1            False             False             True          False  ...   \n",
      "2             True             False            False          False  ...   \n",
      "3            False             False            False           True  ...   \n",
      "4            False              True            False          False  ...   \n",
      "\n",
      "   Crop Type_Cotton  Crop Type_Ground Nuts  Crop Type_Maize  \\\n",
      "0             False                  False             True   \n",
      "1             False                  False            False   \n",
      "2              True                  False            False   \n",
      "3             False                  False            False   \n",
      "4             False                  False            False   \n",
      "\n",
      "   Crop Type_Millets  Crop Type_Oil seeds  Crop Type_Paddy  Crop Type_Pulses  \\\n",
      "0              False                False            False             False   \n",
      "1              False                False            False             False   \n",
      "2              False                False            False             False   \n",
      "3              False                False            False             False   \n",
      "4              False                False             True             False   \n",
      "\n",
      "   Crop Type_Sugarcane  Crop Type_Tobacco  Crop Type_Wheat  \n",
      "0                False              False            False  \n",
      "1                 True              False            False  \n",
      "2                False              False            False  \n",
      "3                False               True            False  \n",
      "4                False              False            False  \n",
      "\n",
      "[5 rows x 22 columns]\n"
     ]
    }
   ],
   "source": [
    "# Separate labels and features\n",
    "labels = data['Fertilizer Name']\n",
    "features = data.drop(['Fertilizer Name'], axis=1)\n",
    "\n",
    "# Identify categorical columns and apply one-hot encoding\n",
    "categorical_cols = ['Soil Type', 'Crop Type']\n",
    "features = pd.get_dummies(features, columns=categorical_cols)\n",
    "\n",
    "print('Labels:')\n",
    "print(labels.head())\n",
    "\n",
    "print('Features after encoding:')\n",
    "print(features.head())"
   ]
  },
  {
   "cell_type": "markdown",
   "id": "6e91a1ce",
   "metadata": {},
   "source": [
    "### Feature Scaling\n",
    "\n",
    "Scale the features to normalize the data."
   ]
  },
  {
   "cell_type": "code",
   "execution_count": 4,
   "id": "f1bd45b5",
   "metadata": {},
   "outputs": [
    {
     "name": "stdout",
     "output_type": "stream",
     "text": [
      "Scaled Features:\n",
      "   Temparature  Humidity   Moisture  Nitrogen  Potassium  Phosphorous  \\\n",
      "0    -1.229084  -1.230737 -0.462064  1.567539  -0.584910    -1.387607   \n",
      "1    -0.368145  -1.230737  0.162128 -0.598658  -0.584910     1.297209   \n",
      "2     1.066752   1.006492  1.678023 -1.031898   0.970777     0.849740   \n",
      "3     0.492793   0.490209 -0.818745  0.267821  -0.584910     0.103958   \n",
      "4    -0.655125  -0.886548  0.251298  1.394244  -0.584910    -1.387607   \n",
      "\n",
      "   Soil Type_Black  Soil Type_Clayey  Soil Type_Loamy  Soil Type_Red  ...  \\\n",
      "0        -0.487340         -0.503155        -0.518875      -0.487340  ...   \n",
      "1        -0.487340         -0.503155         1.927248      -0.487340  ...   \n",
      "2         2.051957         -0.503155        -0.518875      -0.487340  ...   \n",
      "3        -0.487340         -0.503155        -0.518875       2.051957  ...   \n",
      "4        -0.487340          1.987461        -0.518875      -0.487340  ...   \n",
      "\n",
      "   Crop Type_Cotton  Crop Type_Ground Nuts  Crop Type_Maize  \\\n",
      "0         -0.371391              -0.275839         3.937004   \n",
      "1         -0.371391              -0.275839        -0.254000   \n",
      "2          2.692582              -0.275839        -0.254000   \n",
      "3         -0.371391              -0.275839        -0.254000   \n",
      "4         -0.371391              -0.275839        -0.254000   \n",
      "\n",
      "   Crop Type_Millets  Crop Type_Oil seeds  Crop Type_Paddy  Crop Type_Pulses  \\\n",
      "0          -0.353553            -0.275839        -0.335201         -0.335201   \n",
      "1          -0.353553            -0.275839        -0.335201         -0.335201   \n",
      "2          -0.353553            -0.275839        -0.335201         -0.335201   \n",
      "3          -0.353553            -0.275839        -0.335201         -0.335201   \n",
      "4          -0.353553            -0.275839         2.983287         -0.335201   \n",
      "\n",
      "   Crop Type_Sugarcane  Crop Type_Tobacco  Crop Type_Wheat  \n",
      "0            -0.388797          -0.275839        -0.316228  \n",
      "1             2.572039          -0.275839        -0.316228  \n",
      "2            -0.388797          -0.275839        -0.316228  \n",
      "3            -0.388797           3.625308        -0.316228  \n",
      "4            -0.388797          -0.275839        -0.316228  \n",
      "\n",
      "[5 rows x 22 columns]\n"
     ]
    }
   ],
   "source": [
    "scaler = StandardScaler()\n",
    "scaled_features = scaler.fit_transform(features)\n",
    "features = pd.DataFrame(scaled_features, columns=features.columns)\n",
    "\n",
    "print('Scaled Features:')\n",
    "print(features.head())"
   ]
  },
  {
   "cell_type": "markdown",
   "id": "e55f3ea0",
   "metadata": {},
   "source": [
    "### Split the Dataset\n",
    "\n",
    "Split the data into training and testing sets."
   ]
  },
  {
   "cell_type": "code",
   "execution_count": 5,
   "id": "7b85c2d7",
   "metadata": {},
   "outputs": [
    {
     "name": "stdout",
     "output_type": "stream",
     "text": [
      "Training set size: (79, 22)\n",
      "Testing set size: (20, 22)\n"
     ]
    }
   ],
   "source": [
    "X_train, X_test, y_train, y_test = train_test_split(features, labels, test_size=0.2, random_state=42)\n",
    "print('Training set size:', X_train.shape)\n",
    "print('Testing set size:', X_test.shape)"
   ]
  },
  {
   "cell_type": "markdown",
   "id": "d24f9c86",
   "metadata": {},
   "source": [
    "### Model Training: Random Forest"
   ]
  },
  {
   "cell_type": "code",
   "execution_count": 6,
   "id": "a33e3b70",
   "metadata": {},
   "outputs": [
    {
     "name": "stdout",
     "output_type": "stream",
     "text": [
      "Random Forest Accuracy: 0.95\n"
     ]
    }
   ],
   "source": [
    "rf_model = RandomForestClassifier(n_estimators=100, random_state=42)\n",
    "rf_model.fit(X_train, y_train)\n",
    "y_pred_rf = rf_model.predict(X_test)\n",
    "accuracy_rf = accuracy_score(y_test, y_pred_rf)\n",
    "print('Random Forest Accuracy:', accuracy_rf)"
   ]
  },
  {
   "cell_type": "markdown",
   "id": "93e3a0c2",
   "metadata": {},
   "source": [
    "### Model Training: K-Nearest Neighbors"
   ]
  },
  {
   "cell_type": "code",
   "execution_count": 7,
   "id": "4c3d5f20",
   "metadata": {},
   "outputs": [
    {
     "name": "stdout",
     "output_type": "stream",
     "text": [
      "KNN Accuracy: 0.1\n"
     ]
    }
   ],
   "source": [
    "knn_model = KNeighborsClassifier(n_neighbors=3)\n",
    "knn_model.fit(X_train, y_train)\n",
    "y_pred_knn = knn_model.predict(X_test)\n",
    "accuracy_knn = accuracy_score(y_test, y_pred_knn)\n",
    "print('KNN Accuracy:', accuracy_knn)"
   ]
  },
  {
   "cell_type": "markdown",
   "id": "d0f6e8ac",
   "metadata": {},
   "source": [
    "### Compare Model Performances and Save the Best Model\n",
    "\n",
    "The model with the higher accuracy will be chosen and saved along with the scaler."
   ]
  },
  {
   "cell_type": "code",
   "execution_count": 8,
   "id": "a97f6f1a",
   "metadata": {},
   "outputs": [
    {
     "name": "stdout",
     "output_type": "stream",
     "text": [
      "The better model based on accuracy is: Random Forest\n",
      "Best model and scaler saved to disk.\n"
     ]
    }
   ],
   "source": [
    "if accuracy_rf > accuracy_knn:\n",
    "    best_model = rf_model\n",
    "    model_type = 'Random Forest'\n",
    "else:\n",
    "    best_model = knn_model\n",
    "    model_type = 'K-Nearest Neighbors'\n",
    "\n",
    "print(f'The better model based on accuracy is: {model_type}')\n",
    "\n",
    "dump(best_model, 'fertilizer_model.pkl')\n",
    "dump(scaler, 'fertilizer_scaler.pkl')\n",
    "print('Best model and scaler saved to disk.')"
   ]
  }
 ],
 "metadata": {
  "kernelspec": {
   "display_name": "Python 3",
   "language": "python",
   "name": "python3"
  },
  "language_info": {
   "codemirror_mode": {
    "name": "ipython",
    "version": 3
   },
   "file_extension": ".py",
   "mimetype": "text/x-python",
   "name": "python",
   "nbconvert_exporter": "python",
   "pygments_lexer": "ipython3",
   "version": "3.11.0"
  }
 },
 "nbformat": 4,
 "nbformat_minor": 5
}
