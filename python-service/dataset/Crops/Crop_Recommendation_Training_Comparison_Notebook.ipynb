{
 "cells": [
  {
   "cell_type": "markdown",
   "id": "0d916160",
   "metadata": {},
   "source": [
    "## Crop Recommendation Model Training with Comparison"
   ]
  },
  {
   "cell_type": "code",
   "execution_count": 1,
   "id": "d5ea2620",
   "metadata": {},
   "outputs": [],
   "source": [
    "import numpy as np\n",
    "import pandas as pd\n",
    "from sklearn.preprocessing import StandardScaler\n",
    "from sklearn.model_selection import train_test_split\n",
    "from sklearn.naive_bayes import GaussianNB\n",
    "from sklearn.neighbors import KNeighborsClassifier\n",
    "from sklearn.metrics import accuracy_score\n",
    "from joblib import dump"
   ]
  },
  {
   "cell_type": "markdown",
   "id": "7cbac4e6",
   "metadata": {},
   "source": [
    "This notebook demonstrates the process of training two different machine learning models (KNN and Gaussian Naive Bayes) for recommending crops based on environmental features such as NPK values, temperature, humidity, pH, and rainfall. We will compare their performances to decide which model to use."
   ]
  },
  {
   "cell_type": "code",
   "execution_count": 2,
   "id": "d2469b99",
   "metadata": {},
   "outputs": [
    {
     "name": "stdout",
     "output_type": "stream",
     "text": [
      "    N   P   K  temperature   humidity        ph    rainfall label\n",
      "0  90  42  43    20.879744  82.002744  6.502985  202.935536  rice\n",
      "1  85  58  41    21.770462  80.319644  7.038096  226.655537  rice\n",
      "2  60  55  44    23.004459  82.320763  7.840207  263.964248  rice\n",
      "3  74  35  40    26.491096  80.158363  6.980401  242.864034  rice\n",
      "4  78  42  42    20.130175  81.604873  7.628473  262.717340  rice\n",
      "Shape of Dataset: (2200, 8)\n"
     ]
    }
   ],
   "source": [
    "data = pd.read_csv('Crop_recommendation.csv')\n",
    "print(data.head())\n",
    "print('Shape of Dataset:', data.shape)"
   ]
  },
  {
   "cell_type": "markdown",
   "id": "f9fe87ee",
   "metadata": {},
   "source": [
    "### Import Necessary Libraries"
   ]
  },
  {
   "cell_type": "code",
   "execution_count": 3,
   "id": "dbd4f153",
   "metadata": {},
   "outputs": [
    {
     "name": "stdout",
     "output_type": "stream",
     "text": [
      "Labels:\n",
      "0    rice\n",
      "1    rice\n",
      "2    rice\n",
      "3    rice\n",
      "4    rice\n",
      "Name: label, dtype: object\n",
      "Features:\n",
      "    N   P   K  temperature   humidity        ph    rainfall\n",
      "0  90  42  43    20.879744  82.002744  6.502985  202.935536\n",
      "1  85  58  41    21.770462  80.319644  7.038096  226.655537\n",
      "2  60  55  44    23.004459  82.320763  7.840207  263.964248\n",
      "3  74  35  40    26.491096  80.158363  6.980401  242.864034\n",
      "4  78  42  42    20.130175  81.604873  7.628473  262.717340\n"
     ]
    }
   ],
   "source": [
    "labels = data['label']\n",
    "features = data.drop('label', axis=1)\n",
    "print('Labels:')\n",
    "print(labels.head())\n",
    "print('Features:')\n",
    "print(features.head())"
   ]
  },
  {
   "cell_type": "markdown",
   "id": "8b14b3cd",
   "metadata": {},
   "source": [
    "Import libraries required for handling data, machine learning operations, and model evaluation."
   ]
  },
  {
   "cell_type": "code",
   "execution_count": 4,
   "id": "c4d1846c",
   "metadata": {},
   "outputs": [
    {
     "name": "stdout",
     "output_type": "stream",
     "text": [
      "          N         P         K  temperature  humidity        ph  rainfall\n",
      "0  1.068797 -0.344551 -0.101688    -0.935587  0.472666  0.043302  1.810361\n",
      "1  0.933329  0.140616 -0.141185    -0.759646  0.397051  0.734873  2.242058\n",
      "2  0.255986  0.049647 -0.081939    -0.515898  0.486954  1.771510  2.921066\n",
      "3  0.635298 -0.556811 -0.160933     0.172807  0.389805  0.660308  2.537048\n",
      "4  0.743673 -0.344551 -0.121436    -1.083647  0.454792  1.497868  2.898373\n"
     ]
    }
   ],
   "source": [
    "scaler = StandardScaler()\n",
    "scaled_features = scaler.fit_transform(features)\n",
    "features = pd.DataFrame(scaled_features, columns=features.columns)\n",
    "print(features.head())"
   ]
  },
  {
   "cell_type": "markdown",
   "id": "715a955d",
   "metadata": {},
   "source": [
    "### Load and Inspect the Dataset"
   ]
  },
  {
   "cell_type": "code",
   "execution_count": 5,
   "id": "46c2b983",
   "metadata": {},
   "outputs": [
    {
     "name": "stdout",
     "output_type": "stream",
     "text": [
      "Training set size: (1760, 7)\n",
      "Testing set size: (440, 7)\n"
     ]
    }
   ],
   "source": [
    "X_train, X_test, y_train, y_test = train_test_split(features, labels, test_size=0.2, random_state=42)\n",
    "print('Training set size:', X_train.shape)\n",
    "print('Testing set size:', X_test.shape)"
   ]
  },
  {
   "cell_type": "markdown",
   "id": "4fd31621",
   "metadata": {},
   "source": [
    "Load the crop recommendation data from the provided CSV file and inspect the first few entries to understand its structure."
   ]
  },
  {
   "cell_type": "code",
   "execution_count": 6,
   "id": "157c714f",
   "metadata": {},
   "outputs": [
    {
     "name": "stdout",
     "output_type": "stream",
     "text": [
      "Gaussian Naive Bayes Accuracy: 0.9954545454545455\n"
     ]
    }
   ],
   "source": [
    "gnb_model = GaussianNB()\n",
    "gnb_model.fit(X_train, y_train)\n",
    "y_pred_gnb = gnb_model.predict(X_test)\n",
    "accuracy_gnb = accuracy_score(y_test, y_pred_gnb)\n",
    "print('Gaussian Naive Bayes Accuracy:', accuracy_gnb)"
   ]
  },
  {
   "cell_type": "markdown",
   "id": "3aae21d9",
   "metadata": {},
   "source": [
    "### Data Preprocessing"
   ]
  },
  {
   "cell_type": "code",
   "execution_count": 7,
   "id": "1e81a2c6",
   "metadata": {},
   "outputs": [
    {
     "name": "stdout",
     "output_type": "stream",
     "text": [
      "KNN Accuracy: 0.9681818181818181\n"
     ]
    }
   ],
   "source": [
    "knn_model = KNeighborsClassifier(n_neighbors=3)\n",
    "knn_model.fit(X_train, y_train)\n",
    "y_pred_knn = knn_model.predict(X_test)\n",
    "accuracy_knn = accuracy_score(y_test, y_pred_knn)\n",
    "print('KNN Accuracy:', accuracy_knn)"
   ]
  },
  {
   "cell_type": "markdown",
   "id": "b7c11086",
   "metadata": {},
   "source": [
    "Separate the features and the labels, and apply scaling to normalize the features, crucial for effective model training."
   ]
  },
  {
   "cell_type": "code",
   "execution_count": 8,
   "id": "a1f0e271",
   "metadata": {},
   "outputs": [
    {
     "name": "stdout",
     "output_type": "stream",
     "text": [
      "The better model based on accuracy is Gaussian Naive Bayes.\n"
     ]
    }
   ],
   "source": [
    "better_model = gnb_model if accuracy_gnb > accuracy_knn else knn_model\n",
    "model_type = 'Gaussian Naive Bayes' if accuracy_gnb > accuracy_knn else 'K-Nearest Neighbors'\n",
    "print(f'The better model based on accuracy is {model_type}.')"
   ]
  },
  {
   "cell_type": "markdown",
   "id": "08713346",
   "metadata": {},
   "source": [
    "### Model Training: Gaussian Naive Bayes"
   ]
  },
  {
   "cell_type": "code",
   "execution_count": 9,
   "id": "8c2fe12b",
   "metadata": {},
   "outputs": [
    {
     "name": "stdout",
     "output_type": "stream",
     "text": [
      "Model and scaler saved to disk.\n"
     ]
    }
   ],
   "source": [
    "dump(better_model, 'crop_model.pkl')\n",
    "dump(scaler, 'crop_scaler.pkl')\n",
    "print('Model and scaler saved to disk.')"
   ]
  }
 ],
 "metadata": {
  "kernelspec": {
   "display_name": "Python 3",
   "language": "python",
   "name": "python3"
  },
  "language_info": {
   "codemirror_mode": {
    "name": "ipython",
    "version": 3
   },
   "file_extension": ".py",
   "mimetype": "text/x-python",
   "name": "python",
   "nbconvert_exporter": "python",
   "pygments_lexer": "ipython3",
   "version": "3.11.0"
  }
 },
 "nbformat": 4,
 "nbformat_minor": 5
}
