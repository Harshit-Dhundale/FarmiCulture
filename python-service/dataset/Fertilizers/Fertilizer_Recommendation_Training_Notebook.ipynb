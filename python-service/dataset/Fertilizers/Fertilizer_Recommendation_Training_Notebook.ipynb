{
 "cells": [
  {
   "cell_type": "markdown",
   "id": "abdb458a",
   "metadata": {},
   "source": [
    "## Fertilizer Recommendation Model Training"
   ]
  },
  {
   "cell_type": "code",
   "execution_count": null,
   "id": "affd72d4",
   "metadata": {},
   "outputs": [],
   "source": [
    "import numpy as np\n",
    "import pandas as pd\n",
    "from sklearn.preprocessing import StandardScaler\n",
    "from sklearn.ensemble import RandomForestClassifier\n",
    "from sklearn.model_selection import train_test_split\n",
    "from sklearn.metrics import accuracy_score\n",
    "from joblib import dump"
   ]
  },
  {
   "cell_type": "markdown",
   "id": "fc64a2c6",
   "metadata": {},
   "source": [
    "This notebook demonstrates the process of training a machine learning model for recommending the appropriate type and amount of fertilizer based on the crop type and soil properties."
   ]
  },
  {
   "cell_type": "code",
   "execution_count": null,
   "id": "c2f1b905",
   "metadata": {},
   "outputs": [],
   "source": [
    "data = pd.read_csv('Fertilizer Prediction.csv')\n",
    "print(data.head())\n",
    "print('Shape of Dataset:', data.shape)"
   ]
  },
  {
   "cell_type": "markdown",
   "id": "1702190a",
   "metadata": {},
   "source": [
    "### Import Necessary Libraries"
   ]
  },
  {
   "cell_type": "code",
   "execution_count": null,
   "id": "c37620a7",
   "metadata": {},
   "outputs": [],
   "source": [
    "labels = data['Fertilizer Name']\n",
    "features = data.drop(['Fertilizer Name'], axis=1)\n",
    "print('Labels:')\n",
    "print(labels.head())\n",
    "print('Features:')\n",
    "print(features.head())"
   ]
  },
  {
   "cell_type": "markdown",
   "id": "d4f5442a",
   "metadata": {},
   "source": [
    "Import libraries required for handling data, machine learning operations, and model evaluation."
   ]
  },
  {
   "cell_type": "code",
   "execution_count": null,
   "id": "5b8e3d16",
   "metadata": {},
   "outputs": [],
   "source": [
    "scaler = StandardScaler()\n",
    "scaled_features = scaler.fit_transform(features)\n",
    "features = pd.DataFrame(scaled_features, columns=features.columns)\n",
    "print(features.head())"
   ]
  },
  {
   "cell_type": "markdown",
   "id": "80d1a55d",
   "metadata": {},
   "source": [
    "### Load and Inspect the Dataset"
   ]
  },
  {
   "cell_type": "code",
   "execution_count": null,
   "id": "14ad2c0d",
   "metadata": {},
   "outputs": [],
   "source": [
    "X_train, X_test, y_train, y_test = train_test_split(features, labels, test_size=0.2, random_state=42)\n",
    "print('Training set size:', X_train.shape)\n",
    "print('Testing set size:', X_test.shape)"
   ]
  },
  {
   "cell_type": "markdown",
   "id": "45985db2",
   "metadata": {},
   "source": [
    "Load the fertilizer recommendation data from the provided CSV file and inspect the first few entries to understand its structure."
   ]
  },
  {
   "cell_type": "code",
   "execution_count": null,
   "id": "d0dc7ee0",
   "metadata": {},
   "outputs": [],
   "source": [
    "model = RandomForestClassifier(n_estimators=100, random_state=42)\n",
    "model.fit(X_train, y_train)\n",
    "y_pred = model.predict(X_test)\n",
    "accuracy = accuracy_score(y_test, y_pred)\n",
    "print('Model Accuracy:', accuracy)"
   ]
  },
  {
   "cell_type": "markdown",
   "id": "e944a2fd",
   "metadata": {},
   "source": [
    "### Data Preprocessing"
   ]
  },
  {
   "cell_type": "code",
   "execution_count": null,
   "id": "fb10a367",
   "metadata": {},
   "outputs": [],
   "source": [
    "dump(model, 'fertilizer_model.pkl')\n",
    "dump(scaler, 'fertilizer_scaler.pkl')\n",
    "print('Model and scaler saved to disk.')"
   ]
  }
 ],
 "metadata": {},
 "nbformat": 4,
 "nbformat_minor": 5
}
